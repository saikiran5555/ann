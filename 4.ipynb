{
 "cells": [
  {
   "cell_type": "code",
   "execution_count": 4,
   "id": "c4137af1",
   "metadata": {},
   "outputs": [
    {
     "name": "stdout",
     "output_type": "stream",
     "text": [
      "Dimensions of the features (X): (3, 11)\n",
      "Dimensions of the target variable (y): (3,)\n"
     ]
    }
   ],
   "source": [
    "import pandas as pd\n",
    "\n",
    "# Creating a DataFrame from the provided sample\n",
    "data = {\n",
    "    'fixed acidity': [7.4, 7.8, 7.8],\n",
    "    'volatile acidity': [0.7, 0.88, 0.76],\n",
    "    'citric acid': [0, 0, 0.04],\n",
    "    'residual sugar': [1.9, 2.6, 2.3],\n",
    "    'chlorides': [0.076, 0.098, 0.092],\n",
    "    'free sulfur dioxide': [11, 25, 15],\n",
    "    'total sulfur dioxide': [34, 67, 54],\n",
    "    'density': [0.9978, 0.9968, 0.997],\n",
    "    'pH': [3.51, 3.2, 3.26],\n",
    "    'sulphates': [0.56, 0.68, 0.65],\n",
    "    'alcohol': [9.4, 9.8, 9.8],\n",
    "    'quality': ['bad', 'bad', 'bad']\n",
    "}\n",
    "\n",
    "wine_quality = pd.DataFrame(data)\n",
    "\n",
    "# Separate features (input variables) and target variable (output variable)\n",
    "X = wine_quality.drop(\"quality\", axis=1)  # Features (all columns except 'quality')\n",
    "y = wine_quality[\"quality\"]              # Target variable ('quality' column)\n",
    "\n",
    "# Display the dimensions of the features and target variable\n",
    "print(\"Dimensions of the features (X):\", X.shape)\n",
    "print(\"Dimensions of the target variable (y):\", y.shape)\n"
   ]
  },
  {
   "cell_type": "code",
   "execution_count": null,
   "id": "e5c3bb92",
   "metadata": {},
   "outputs": [],
   "source": []
  }
 ],
 "metadata": {
  "kernelspec": {
   "display_name": "Python 3 (ipykernel)",
   "language": "python",
   "name": "python3"
  },
  "language_info": {
   "codemirror_mode": {
    "name": "ipython",
    "version": 3
   },
   "file_extension": ".py",
   "mimetype": "text/x-python",
   "name": "python",
   "nbconvert_exporter": "python",
   "pygments_lexer": "ipython3",
   "version": "3.10.9"
  }
 },
 "nbformat": 4,
 "nbformat_minor": 5
}
