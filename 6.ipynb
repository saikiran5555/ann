{
 "cells": [
  {
   "cell_type": "code",
   "execution_count": 4,
   "id": "7049b7db",
   "metadata": {},
   "outputs": [
    {
     "name": "stdout",
     "output_type": "stream",
     "text": [
      "Scaled Features (X_scaled):\n",
      "   fixed acidity  volatile acidity  citric acid  residual sugar  chlorides  \\\n",
      "0            0.0          0.000000          0.0        0.000000   0.000000   \n",
      "1            1.0          1.000000          0.0        1.000000   1.000000   \n",
      "2            1.0          0.333333          1.0        0.571429   0.727273   \n",
      "\n",
      "   free sulfur dioxide  total sulfur dioxide  density        pH  sulphates  \\\n",
      "0             0.000000              0.000000      1.0  1.000000       0.00   \n",
      "1             1.000000              1.000000      0.0  0.000000       1.00   \n",
      "2             0.285714              0.606061      0.2  0.193548       0.75   \n",
      "\n",
      "   alcohol  \n",
      "0      0.0  \n",
      "1      1.0  \n",
      "2      1.0  \n"
     ]
    }
   ],
   "source": [
    "import pandas as pd\n",
    "from sklearn.preprocessing import MinMaxScaler\n",
    "data = {\n",
    "    'fixed acidity': [7.4, 7.8, 7.8],\n",
    "    'volatile acidity': [0.7, 0.88, 0.76],\n",
    "    'citric acid': [0, 0, 0.04],\n",
    "    'residual sugar': [1.9, 2.6, 2.3],\n",
    "    'chlorides': [0.076, 0.098, 0.092],\n",
    "    'free sulfur dioxide': [11, 25, 15],\n",
    "    'total sulfur dioxide': [34, 67, 54],\n",
    "    'density': [0.9978, 0.9968, 0.997],\n",
    "    'pH': [3.51, 3.2, 3.26],\n",
    "    'sulphates': [0.56, 0.68, 0.65],\n",
    "    'alcohol': [9.4, 9.8, 9.8],\n",
    "    'quality': ['bad', 'bad', 'bad']\n",
    "}\n",
    "\n",
    "wine_quality = pd.DataFrame(data)\n",
    "\n",
    "# Initialize the MinMaxScaler\n",
    "scaler = MinMaxScaler()\n",
    "wine_quality = pd.DataFrame(data)\n",
    "# Separate features (input variables) and target variable (output variable)\n",
    "X = wine_quality.drop(\"quality\", axis=1)  # Features (all columns except 'quality')\n",
    "y = wine_quality[\"quality\"]              # Target variable ('quality' column)\n",
    "\n",
    "# Fit the scaler to the features and transform the features\n",
    "X_scaled = scaler.fit_transform(X)\n",
    "\n",
    "# Convert the scaled features array back to a DataFrame\n",
    "X_scaled = pd.DataFrame(X_scaled, columns=X.columns)\n",
    "\n",
    "# Display the first few rows of the scaled features\n",
    "print(\"Scaled Features (X_scaled):\")\n",
    "print(X_scaled.head())\n"
   ]
  },
  {
   "cell_type": "code",
   "execution_count": null,
   "id": "575fb112",
   "metadata": {},
   "outputs": [],
   "source": []
  }
 ],
 "metadata": {
  "kernelspec": {
   "display_name": "Python 3 (ipykernel)",
   "language": "python",
   "name": "python3"
  },
  "language_info": {
   "codemirror_mode": {
    "name": "ipython",
    "version": 3
   },
   "file_extension": ".py",
   "mimetype": "text/x-python",
   "name": "python",
   "nbconvert_exporter": "python",
   "pygments_lexer": "ipython3",
   "version": "3.10.9"
  }
 },
 "nbformat": 4,
 "nbformat_minor": 5
}
