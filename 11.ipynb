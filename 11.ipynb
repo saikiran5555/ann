{
 "cells": [
  {
   "cell_type": "code",
   "execution_count": 1,
   "id": "ff29043e",
   "metadata": {},
   "outputs": [
    {
     "name": "stdout",
     "output_type": "stream",
     "text": [
      "WARNING:tensorflow:From C:\\Users\\91779\\anaconda3\\lib\\site-packages\\keras\\src\\losses.py:2976: The name tf.losses.sparse_softmax_cross_entropy is deprecated. Please use tf.compat.v1.losses.sparse_softmax_cross_entropy instead.\n",
      "\n",
      "WARNING:tensorflow:From C:\\Users\\91779\\anaconda3\\lib\\site-packages\\keras\\src\\backend.py:873: The name tf.get_default_graph is deprecated. Please use tf.compat.v1.get_default_graph instead.\n",
      "\n",
      "WARNING:tensorflow:From C:\\Users\\91779\\anaconda3\\lib\\site-packages\\keras\\src\\optimizers\\__init__.py:309: The name tf.train.Optimizer is deprecated. Please use tf.compat.v1.train.Optimizer instead.\n",
      "\n",
      "Model: \"sequential\"\n",
      "_________________________________________________________________\n",
      " Layer (type)                Output Shape              Param #   \n",
      "=================================================================\n",
      " dense (Dense)               (None, 32)                384       \n",
      "                                                                 \n",
      " dense_1 (Dense)             (None, 64)                2112      \n",
      "                                                                 \n",
      " dense_2 (Dense)             (None, 64)                4160      \n",
      "                                                                 \n",
      " dense_3 (Dense)             (None, 1)                 65        \n",
      "                                                                 \n",
      "=================================================================\n",
      "Total params: 6721 (26.25 KB)\n",
      "Trainable params: 6721 (26.25 KB)\n",
      "Non-trainable params: 0 (0.00 Byte)\n",
      "_________________________________________________________________\n"
     ]
    }
   ],
   "source": [
    "import pandas as pd\n",
    "from sklearn.preprocessing import MinMaxScaler\n",
    "from keras.models import Sequential\n",
    "from keras.layers import Dense\n",
    "\n",
    "# Load the dataset\n",
    "data = {\n",
    "    'fixed acidity': [7.4, 7.8, 7.8],\n",
    "    'volatile acidity': [0.7, 0.88, 0.76],\n",
    "    'citric acid': [0, 0, 0.04],\n",
    "    'residual sugar': [1.9, 2.6, 2.3],\n",
    "    'chlorides': [0.076, 0.098, 0.092],\n",
    "    'free sulfur dioxide': [11, 25, 15],\n",
    "    'total sulfur dioxide': [34, 67, 54],\n",
    "    'density': [0.9978, 0.9968, 0.997],\n",
    "    'pH': [3.51, 3.2, 3.26],\n",
    "    'sulphates': [0.56, 0.68, 0.65],\n",
    "    'alcohol': [9.4, 9.8, 9.8],\n",
    "    'quality': ['bad', 'bad', 'bad']\n",
    "}\n",
    "\n",
    "wine_quality = pd.DataFrame(data)\n",
    "\n",
    "# Separate features (input variables) and target variable (output variable)\n",
    "X = wine_quality.drop(\"quality\", axis=1)  # Features (all columns except 'quality')\n",
    "y = wine_quality[\"quality\"]              # Target variable ('quality' column)\n",
    "\n",
    "# Scale the features using Min-Max scaling\n",
    "scaler = MinMaxScaler()\n",
    "X_scaled = scaler.fit_transform(X)\n",
    "X_scaled = pd.DataFrame(X_scaled, columns=X.columns)\n",
    "\n",
    "# Create a Sequential model\n",
    "model = Sequential()\n",
    "\n",
    "# Add the layers to the model\n",
    "\n",
    "# Add input layer with appropriate input shape (number of features)\n",
    "model.add(Dense(units=32, activation='relu', input_shape=(X_scaled.shape[1],)))\n",
    "\n",
    "# Add hidden layers\n",
    "model.add(Dense(units=64, activation='relu'))\n",
    "model.add(Dense(units=64, activation='relu'))\n",
    "\n",
    "# Add output layer\n",
    "model.add(Dense(units=1, activation='sigmoid'))\n",
    "\n",
    "# Compile the model with specified loss function, optimizer, and metrics\n",
    "model.compile(optimizer='adam', loss='binary_crossentropy', metrics=['accuracy'])\n",
    "\n",
    "# Print a summary of the model architecture\n",
    "model.summary()\n"
   ]
  },
  {
   "cell_type": "code",
   "execution_count": null,
   "id": "5b6f6e48",
   "metadata": {},
   "outputs": [],
   "source": []
  }
 ],
 "metadata": {
  "kernelspec": {
   "display_name": "Python 3 (ipykernel)",
   "language": "python",
   "name": "python3"
  },
  "language_info": {
   "codemirror_mode": {
    "name": "ipython",
    "version": 3
   },
   "file_extension": ".py",
   "mimetype": "text/x-python",
   "name": "python",
   "nbconvert_exporter": "python",
   "pygments_lexer": "ipython3",
   "version": "3.10.9"
  }
 },
 "nbformat": 4,
 "nbformat_minor": 5
}
