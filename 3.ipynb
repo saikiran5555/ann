{
 "cells": [
  {
   "cell_type": "code",
   "execution_count": 3,
   "id": "d02911ab",
   "metadata": {},
   "outputs": [
    {
     "name": "stdout",
     "output_type": "stream",
     "text": [
      "Null values:\n",
      " fixed acidity           0\n",
      "volatile acidity        0\n",
      "citric acid             0\n",
      "residual sugar          0\n",
      "chlorides               0\n",
      "free sulfur dioxide     0\n",
      "total sulfur dioxide    0\n",
      "density                 0\n",
      "pH                      0\n",
      "sulphates               0\n",
      "alcohol                 0\n",
      "quality                 0\n",
      "dtype: int64\n",
      "Categorical variables:\n",
      " Index(['quality'], dtype='object')\n",
      "Encoded DataFrame:\n",
      "    fixed acidity  volatile acidity  citric acid  residual sugar  chlorides  \\\n",
      "0            7.4               0.7            0             1.9      0.076   \n",
      "\n",
      "   free sulfur dioxide  total sulfur dioxide  density    pH  sulphates  \\\n",
      "0                   11                    34   0.9978  3.51       0.56   \n",
      "\n",
      "   alcohol  quality_bad  \n",
      "0      9.4            1  \n"
     ]
    }
   ],
   "source": [
    "import pandas as pd\n",
    "\n",
    "# Sample data\n",
    "data = {\n",
    "    'fixed acidity': [7.4],\n",
    "    'volatile acidity': [0.7],\n",
    "    'citric acid': [0],\n",
    "    'residual sugar': [1.9],\n",
    "    'chlorides': [0.076],\n",
    "    'free sulfur dioxide': [11],\n",
    "    'total sulfur dioxide': [34],\n",
    "    'density': [0.9978],\n",
    "    'pH': [3.51],\n",
    "    'sulphates': [0.56],\n",
    "    'alcohol': [9.4],\n",
    "    'quality': ['bad']\n",
    "}\n",
    "\n",
    "# Creating a DataFrame\n",
    "df = pd.DataFrame(data)\n",
    "\n",
    "# Check for null values\n",
    "null_values = df.isnull().sum()\n",
    "print(\"Null values:\\n\", null_values)\n",
    "\n",
    "# Identify categorical variables\n",
    "categorical_vars = df.select_dtypes(include=['object']).columns\n",
    "print(\"Categorical variables:\\n\", categorical_vars)\n",
    "\n",
    "# One-hot encode categorical variables\n",
    "encoded_df = pd.get_dummies(df, columns=categorical_vars)\n",
    "\n",
    "print(\"Encoded DataFrame:\\n\", encoded_df)\n"
   ]
  },
  {
   "cell_type": "code",
   "execution_count": null,
   "id": "5c93c18f",
   "metadata": {},
   "outputs": [],
   "source": []
  }
 ],
 "metadata": {
  "kernelspec": {
   "display_name": "Python 3 (ipykernel)",
   "language": "python",
   "name": "python3"
  },
  "language_info": {
   "codemirror_mode": {
    "name": "ipython",
    "version": 3
   },
   "file_extension": ".py",
   "mimetype": "text/x-python",
   "name": "python",
   "nbconvert_exporter": "python",
   "pygments_lexer": "ipython3",
   "version": "3.10.9"
  }
 },
 "nbformat": 4,
 "nbformat_minor": 5
}
